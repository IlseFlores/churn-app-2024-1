{
 "cells": [
  {
   "cell_type": "code",
   "execution_count": 1,
   "id": "initial_id",
   "metadata": {
    "collapsed": true,
    "ExecuteTime": {
     "end_time": "2024-04-09T03:41:14.068062Z",
     "start_time": "2024-04-09T03:41:12.629779Z"
    }
   },
   "outputs": [],
   "source": [
    "import xgboost as xgb\n",
    "import pandas as pd"
   ]
  },
  {
   "cell_type": "code",
   "outputs": [],
   "source": [
    "df_final = pd.read_csv(\"../data/processed/df_final.csv\")"
   ],
   "metadata": {
    "collapsed": false,
    "ExecuteTime": {
     "end_time": "2024-04-09T03:41:15.041606Z",
     "start_time": "2024-04-09T03:41:15.004991Z"
    }
   },
   "id": "383ec1731d247436",
   "execution_count": 2
  },
  {
   "cell_type": "code",
   "outputs": [],
   "source": [
    "df_X = df_final.drop(['Churn'], axis = 1)\n",
    "df_y = df_final['Churn']"
   ],
   "metadata": {
    "collapsed": false,
    "ExecuteTime": {
     "end_time": "2024-04-09T03:41:15.483141Z",
     "start_time": "2024-04-09T03:41:15.477155Z"
    }
   },
   "id": "b9b5b8f8855b7eaf",
   "execution_count": 3
  },
  {
   "cell_type": "code",
   "outputs": [],
   "source": [
    "from sklearn.model_selection import train_test_split\n",
    "X_train, X_test, y_train, y_test = train_test_split(df_X, df_y, train_size=0.8,random_state=4)"
   ],
   "metadata": {
    "collapsed": false,
    "ExecuteTime": {
     "end_time": "2024-04-09T03:41:15.936033Z",
     "start_time": "2024-04-09T03:41:15.930814Z"
    }
   },
   "id": "196427b7518dc816",
   "execution_count": 4
  },
  {
   "cell_type": "code",
   "outputs": [
    {
     "name": "stderr",
     "output_type": "stream",
     "text": [
      "/Users/reginaflores/Documents/ProyectoCDRepos/churn-app-2024-1/.venv/lib/python3.11/site-packages/sklearn/ensemble/_weight_boosting.py:519: FutureWarning: The SAMME.R algorithm (the default) is deprecated and will be removed in 1.6. Use the SAMME algorithm to circumvent this warning.\n",
      "  warnings.warn(\n",
      "/Users/reginaflores/Documents/ProyectoCDRepos/churn-app-2024-1/.venv/lib/python3.11/site-packages/sklearn/metrics/_classification.py:1509: UndefinedMetricWarning: Precision is ill-defined and being set to 0.0 due to no predicted samples. Use `zero_division` parameter to control this behavior.\n",
      "  _warn_prf(average, modifier, f\"{metric.capitalize()} is\", len(result))\n",
      "/Users/reginaflores/Documents/ProyectoCDRepos/churn-app-2024-1/.venv/lib/python3.11/site-packages/sklearn/metrics/_classification.py:1509: UndefinedMetricWarning: Recall is ill-defined and being set to 0.0 due to no true samples. Use `zero_division` parameter to control this behavior.\n",
      "  _warn_prf(average, modifier, f\"{metric.capitalize()} is\", len(result))\n"
     ]
    }
   ],
   "source": [
    "# pip install mlflow\n",
    "import mlflow\n",
    "from sklearn.ensemble import AdaBoostClassifier\n",
    "from sklearn.metrics import roc_auc_score, accuracy_score, precision_score, recall_score\n",
    "\n",
    "name_model = \"AdaBoost\"\n",
    "developer = \"Regina flores\"\n",
    "\n",
    "parameters = {\n",
    "    \"n_estimators\": 50, \n",
    "    \"random_state\": 42,\n",
    "    \"learning_rate\": 1.0\n",
    "}\n",
    "                  \n",
    "with mlflow.start_run(run_name=name_model):\n",
    "    \n",
    "    mlflow.log_param(\"model\", name_model)\n",
    "    mlflow.log_param(\"developer\", developer)\n",
    "    \n",
    "    # Registrar parámetros del modelo\n",
    "    mlflow.log_params(parameters)\n",
    "    \n",
    "    # Entrena un clasificador AdaBoost\n",
    "    ada_clf = AdaBoostClassifier(**parameters)\n",
    "    ada_clf.fit(X_train, y_train)\n",
    "    \n",
    "    # Realizar predicciones\n",
    "    predictions = ada_clf.predict(X_test)\n",
    "    #predictions_proba = ada_clf.predict_proba(X_test)[:, 1]\n",
    "\n",
    "    # Calcular métricas\n",
    "    accuracy = accuracy_score(y_test, predictions)\n",
    "    precision = precision_score(y_test, predictions)\n",
    "    recall = recall_score(y_test, predictions)\n",
    "    #roc_auc = roc_auc_score(y_test, predictions_proba)\n",
    "\n",
    "    # Registrar métricas\n",
    "   # mlflow.log_metric(\"roc_auc\", roc_auc)\n",
    "    mlflow.log_metric(\"accuracy\", accuracy)\n",
    "    mlflow.log_metric(\"precision\", precision)\n",
    "    mlflow.log_metric(\"recall\", recall)\n",
    "    \n",
    "    # Registrar el modelo\n",
    "    mlflow.sklearn.log_model(ada_clf, \"ada_boost_classifier\")"
   ],
   "metadata": {
    "collapsed": false,
    "ExecuteTime": {
     "end_time": "2024-04-09T03:41:47.693804Z",
     "start_time": "2024-04-09T03:41:43.936983Z"
    }
   },
   "id": "53946c601c8e356e",
   "execution_count": 5
  },
  {
   "cell_type": "code",
   "outputs": [
    {
     "data": {
      "text/plain": "Initialized MLflow to track repo \u001B[32m\"IlseFlores/churn-app-2024-1\"\u001B[0m\n",
      "text/html": "<pre style=\"white-space:pre;overflow-x:auto;line-height:normal;font-family:Menlo,'DejaVu Sans Mono',consolas,'Courier New',monospace\">Initialized MLflow to track repo <span style=\"color: #008000; text-decoration-color: #008000\">\"IlseFlores/churn-app-2024-1\"</span>\n</pre>\n"
     },
     "metadata": {},
     "output_type": "display_data"
    },
    {
     "data": {
      "text/plain": "Repository IlseFlores/churn-app-\u001B[1;36m2024\u001B[0m-\u001B[1;36m1\u001B[0m initialized!\n",
      "text/html": "<pre style=\"white-space:pre;overflow-x:auto;line-height:normal;font-family:Menlo,'DejaVu Sans Mono',consolas,'Courier New',monospace\">Repository IlseFlores/churn-app-<span style=\"color: #008080; text-decoration-color: #008080; font-weight: bold\">2024</span>-<span style=\"color: #008080; text-decoration-color: #008080; font-weight: bold\">1</span> initialized!\n</pre>\n"
     },
     "metadata": {},
     "output_type": "display_data"
    }
   ],
   "source": [
    "import dagshub\n",
    "import mlflow\n",
    "\n",
    "dagshub.init(\"churn-app-2024-1\", \"IlseFlores\", mlflow=True)\n",
    "\n",
    "mlflow.set_tracking_uri('https://dagshub.com/IlseFlores/churn-app-2024-1.mlflow')"
   ],
   "metadata": {
    "collapsed": false,
    "ExecuteTime": {
     "end_time": "2024-04-09T03:42:11.480766Z",
     "start_time": "2024-04-09T03:42:10.541214Z"
    }
   },
   "id": "3f08cbadafff939c",
   "execution_count": 6
  },
  {
   "cell_type": "code",
   "outputs": [
    {
     "name": "stderr",
     "output_type": "stream",
     "text": [
      "/Users/reginaflores/Documents/ProyectoCDRepos/churn-app-2024-1/.venv/lib/python3.11/site-packages/sklearn/ensemble/_weight_boosting.py:519: FutureWarning: The SAMME.R algorithm (the default) is deprecated and will be removed in 1.6. Use the SAMME algorithm to circumvent this warning.\n",
      "  warnings.warn(\n",
      "/Users/reginaflores/Documents/ProyectoCDRepos/churn-app-2024-1/.venv/lib/python3.11/site-packages/sklearn/metrics/_classification.py:1509: UndefinedMetricWarning: Precision is ill-defined and being set to 0.0 due to no predicted samples. Use `zero_division` parameter to control this behavior.\n",
      "  _warn_prf(average, modifier, f\"{metric.capitalize()} is\", len(result))\n",
      "/Users/reginaflores/Documents/ProyectoCDRepos/churn-app-2024-1/.venv/lib/python3.11/site-packages/sklearn/metrics/_classification.py:1509: UndefinedMetricWarning: Recall is ill-defined and being set to 0.0 due to no true samples. Use `zero_division` parameter to control this behavior.\n",
      "  _warn_prf(average, modifier, f\"{metric.capitalize()} is\", len(result))\n",
      "/Users/reginaflores/Documents/ProyectoCDRepos/churn-app-2024-1/.venv/lib/python3.11/site-packages/_distutils_hack/__init__.py:18: UserWarning: Distutils was imported before Setuptools, but importing Setuptools also replaces the `distutils` module in `sys.modules`. This may lead to undesirable behaviors or errors. To avoid these issues, avoid using distutils directly, ensure that setuptools is installed in the traditional way (e.g. not an editable install), and/or make sure that setuptools is always imported before distutils.\n",
      "  warnings.warn(\n",
      "/Users/reginaflores/Documents/ProyectoCDRepos/churn-app-2024-1/.venv/lib/python3.11/site-packages/_distutils_hack/__init__.py:33: UserWarning: Setuptools is replacing distutils.\n",
      "  warnings.warn(\"Setuptools is replacing distutils.\")\n"
     ]
    }
   ],
   "source": [
    "# pip install mlflow\n",
    "import mlflow\n",
    "from sklearn.ensemble import AdaBoostClassifier\n",
    "from sklearn.metrics import roc_auc_score, accuracy_score, precision_score, recall_score\n",
    "\n",
    "name_model = \"AdaBoost\"\n",
    "developer = \"Regina flores\"\n",
    "\n",
    "parameters = {\n",
    "    \"n_estimators\": 50, \n",
    "    \"random_state\": 42,\n",
    "    \"learning_rate\": 1.0\n",
    "}\n",
    "                  \n",
    "with mlflow.start_run(run_name=name_model):\n",
    "    \n",
    "    mlflow.log_param(\"model\", name_model)\n",
    "    mlflow.log_param(\"developer\", developer)\n",
    "    \n",
    "    # Registrar parámetros del modelo\n",
    "    mlflow.log_params(parameters)\n",
    "    \n",
    "    # Entrena un clasificador AdaBoost\n",
    "    ada_clf = AdaBoostClassifier(**parameters)\n",
    "    ada_clf.fit(X_train, y_train)\n",
    "    \n",
    "    # Realizar predicciones\n",
    "    predictions = ada_clf.predict(X_test)\n",
    "    #predictions_proba = ada_clf.predict_proba(X_test)[:, 1]\n",
    "\n",
    "    # Calcular métricas\n",
    "    accuracy = accuracy_score(y_test, predictions)\n",
    "    precision = precision_score(y_test, predictions)\n",
    "    recall = recall_score(y_test, predictions)\n",
    "    #roc_auc = roc_auc_score(y_test, predictions_proba)\n",
    "\n",
    "    # Registrar métricas\n",
    "   # mlflow.log_metric(\"roc_auc\", roc_auc)\n",
    "    mlflow.log_metric(\"accuracy\", accuracy)\n",
    "    mlflow.log_metric(\"precision\", precision)\n",
    "    mlflow.log_metric(\"recall\", recall)\n",
    "    \n",
    "    # Registrar el modelo\n",
    "    mlflow.sklearn.log_model(ada_clf, \"ada_boost_classifier\")"
   ],
   "metadata": {
    "collapsed": false,
    "ExecuteTime": {
     "end_time": "2024-04-09T03:47:34.190778Z",
     "start_time": "2024-04-09T03:47:22.566821Z"
    }
   },
   "id": "deda9b30cc9ded1",
   "execution_count": 9
  },
  {
   "cell_type": "code",
   "outputs": [
    {
     "data": {
      "text/plain": "Initialized MLflow to track repo \u001B[32m\"IlseFlores/churn-app-2024-1\"\u001B[0m\n",
      "text/html": "<pre style=\"white-space:pre;overflow-x:auto;line-height:normal;font-family:Menlo,'DejaVu Sans Mono',consolas,'Courier New',monospace\">Initialized MLflow to track repo <span style=\"color: #008000; text-decoration-color: #008000\">\"IlseFlores/churn-app-2024-1\"</span>\n</pre>\n"
     },
     "metadata": {},
     "output_type": "display_data"
    },
    {
     "data": {
      "text/plain": "Repository IlseFlores/churn-app-\u001B[1;36m2024\u001B[0m-\u001B[1;36m1\u001B[0m initialized!\n",
      "text/html": "<pre style=\"white-space:pre;overflow-x:auto;line-height:normal;font-family:Menlo,'DejaVu Sans Mono',consolas,'Courier New',monospace\">Repository IlseFlores/churn-app-<span style=\"color: #008080; text-decoration-color: #008080; font-weight: bold\">2024</span>-<span style=\"color: #008080; text-decoration-color: #008080; font-weight: bold\">1</span> initialized!\n</pre>\n"
     },
     "metadata": {},
     "output_type": "display_data"
    }
   ],
   "source": [
    "import dagshub\n",
    "import mlflow\n",
    "\n",
    "dagshub.init(\"churn-app-2024-1\", \"IlseFlores\", mlflow=True)\n",
    "\n",
    "mlflow.set_tracking_uri('https://dagshub.com/IlseFlores/churn-app-2024-1.mlflow')"
   ],
   "metadata": {
    "collapsed": false,
    "ExecuteTime": {
     "end_time": "2024-04-09T03:43:16.609537Z",
     "start_time": "2024-04-09T03:43:16.391550Z"
    }
   },
   "id": "352c414e4e04d4f8",
   "execution_count": 8
  },
  {
   "cell_type": "code",
   "outputs": [],
   "source": [],
   "metadata": {
    "collapsed": false
   },
   "id": "e307e45325d4db41"
  }
 ],
 "metadata": {
  "kernelspec": {
   "display_name": "Python 3",
   "language": "python",
   "name": "python3"
  },
  "language_info": {
   "codemirror_mode": {
    "name": "ipython",
    "version": 2
   },
   "file_extension": ".py",
   "mimetype": "text/x-python",
   "name": "python",
   "nbconvert_exporter": "python",
   "pygments_lexer": "ipython2",
   "version": "2.7.6"
  }
 },
 "nbformat": 4,
 "nbformat_minor": 5
}
